{
 "cells": [
  {
   "cell_type": "markdown",
   "metadata": {},
   "source": [
    "## Text Preprocessing"
   ]
  },
  {
   "cell_type": "code",
   "execution_count": null,
   "metadata": {},
   "outputs": [],
   "source": [
    "import pandas as pd\n",
    "from tqdm import tqdm\n",
    "tqdm.pandas()"
   ]
  },
  {
   "cell_type": "code",
   "execution_count": 5,
   "metadata": {},
   "outputs": [
    {
     "name": "stdout",
     "output_type": "stream",
     "text": [
      "Train shape :  (1306122, 3)\n",
      "Test shape :  (56370, 2)\n"
     ]
    }
   ],
   "source": [
    "train = pd.read_csv(\"../input/train.csv\")\n",
    "test = pd.read_csv(\"../input/test.csv\")\n",
    "print(\"Train shape : \",train.shape)\n",
    "print(\"Test shape : \",test.shape)"
   ]
  },
  {
   "cell_type": "code",
   "execution_count": 6,
   "metadata": {},
   "outputs": [],
   "source": [
    "def build_vocab(sentences, verbose =  True):\n",
    "    \"\"\"\n",
    "    :param sentences: list of list of words\n",
    "    :return: dictionary of words and their count\n",
    "    \"\"\"\n",
    "    vocab = {}\n",
    "    for sentence in tqdm(sentences, disable = (not verbose)):\n",
    "        for word in sentence:\n",
    "            try:\n",
    "                vocab[word] += 1\n",
    "            except KeyError:\n",
    "                vocab[word] = 1\n",
    "    return vocab"
   ]
  },
  {
   "cell_type": "code",
   "execution_count": 7,
   "metadata": {},
   "outputs": [
    {
     "name": "stderr",
     "output_type": "stream",
     "text": [
      "100%|██████████| 1306122/1306122 [00:04<00:00, 323358.82it/s]\n",
      "100%|██████████| 1306122/1306122 [00:03<00:00, 384595.03it/s]"
     ]
    },
    {
     "name": "stdout",
     "output_type": "stream",
     "text": [
      "{'How': 261930, 'did': 33489, 'Quebec': 97, 'nationalists': 91, 'see': 9003}\n"
     ]
    },
    {
     "name": "stderr",
     "output_type": "stream",
     "text": [
      "\n"
     ]
    }
   ],
   "source": [
    "sentences = train[\"question_text\"].progress_apply(lambda x: x.split()).values\n",
    "vocab = build_vocab(sentences)\n",
    "print({k: vocab[k] for k in list(vocab)[:5]})"
   ]
  },
  {
   "cell_type": "code",
   "execution_count": 9,
   "metadata": {},
   "outputs": [],
   "source": [
    "from gensim.models import KeyedVectors\n",
    "\n",
    "news_path = '../embedding/GoogleNews-vectors-negative300/GoogleNews-vectors-negative300.bin'\n",
    "embeddings_index = KeyedVectors.load_word2vec_format(news_path, binary=True)"
   ]
  },
  {
   "cell_type": "code",
   "execution_count": 10,
   "metadata": {},
   "outputs": [],
   "source": [
    "import operator \n",
    "\n",
    "def check_coverage(vocab,embeddings_index):\n",
    "    a = {}\n",
    "    oov = {}\n",
    "    k = 0\n",
    "    i = 0\n",
    "    for word in tqdm(vocab):\n",
    "        try:\n",
    "            a[word] = embeddings_index[word]\n",
    "            k += vocab[word]\n",
    "        except:\n",
    "\n",
    "            oov[word] = vocab[word]\n",
    "            i += vocab[word]\n",
    "            pass\n",
    "\n",
    "    print('Found embeddings for {:.2%} of vocab'.format(len(a) / len(vocab)))\n",
    "    print('Found embeddings for  {:.2%} of all text'.format(k / (k + i)))\n",
    "    sorted_x = sorted(oov.items(), key=operator.itemgetter(1))[::-1]\n",
    "\n",
    "    return sorted_x"
   ]
  },
  {
   "cell_type": "code",
   "execution_count": 11,
   "metadata": {},
   "outputs": [
    {
     "name": "stderr",
     "output_type": "stream",
     "text": [
      "100%|██████████| 508823/508823 [00:01<00:00, 416027.92it/s]\n"
     ]
    },
    {
     "name": "stdout",
     "output_type": "stream",
     "text": [
      "Found embeddings for 24.31% of vocab\n",
      "Found embeddings for  78.75% of all text\n"
     ]
    }
   ],
   "source": [
    "oov = check_coverage(vocab,embeddings_index)"
   ]
  },
  {
   "cell_type": "code",
   "execution_count": 12,
   "metadata": {},
   "outputs": [],
   "source": [
    "def clean_text(x):\n",
    "\n",
    "    x = str(x)\n",
    "    for punct in \"/-'\":\n",
    "        x = x.replace(punct, ' ')\n",
    "    for punct in '&':\n",
    "        x = x.replace(punct, f' {punct} ')\n",
    "    for punct in '?!.,\"#$%\\'()*+-/:;<=>@[\\\\]^_`{|}~' + '“”’':\n",
    "        x = x.replace(punct, '')\n",
    "    return x"
   ]
  },
  {
   "cell_type": "code",
   "execution_count": 13,
   "metadata": {},
   "outputs": [
    {
     "name": "stderr",
     "output_type": "stream",
     "text": [
      "100%|██████████| 1306122/1306122 [00:07<00:00, 175009.03it/s]\n",
      "100%|██████████| 1306122/1306122 [00:03<00:00, 380490.54it/s]\n"
     ]
    }
   ],
   "source": [
    "train[\"question_text\"] = train[\"question_text\"].progress_apply(lambda x: clean_text(x))\n",
    "sentences = train[\"question_text\"].apply(lambda x: x.split())\n",
    "vocab = build_vocab(sentences)"
   ]
  },
  {
   "cell_type": "code",
   "execution_count": 14,
   "metadata": {},
   "outputs": [
    {
     "name": "stderr",
     "output_type": "stream",
     "text": [
      "100%|██████████| 253623/253623 [00:00<00:00, 330316.57it/s]\n"
     ]
    },
    {
     "name": "stdout",
     "output_type": "stream",
     "text": [
      "Found embeddings for 57.38% of vocab\n",
      "Found embeddings for  89.99% of all text\n"
     ]
    }
   ],
   "source": [
    "oov = check_coverage(vocab,embeddings_index)"
   ]
  },
  {
   "cell_type": "code",
   "execution_count": 15,
   "metadata": {},
   "outputs": [],
   "source": [
    "import re\n",
    "def clean_numbers(x):\n",
    "    x = re.sub('[0-9]{5,}', '#####', x)\n",
    "    x = re.sub('[0-9]{4}', '####', x)\n",
    "    x = re.sub('[0-9]{3}', '###', x)\n",
    "    x = re.sub('[0-9]{2}', '##', x)\n",
    "    return x"
   ]
  },
  {
   "cell_type": "code",
   "execution_count": 16,
   "metadata": {},
   "outputs": [
    {
     "name": "stderr",
     "output_type": "stream",
     "text": [
      "100%|██████████| 1306122/1306122 [00:11<00:00, 118537.47it/s]\n",
      "100%|██████████| 1306122/1306122 [00:03<00:00, 355320.15it/s]\n",
      "100%|██████████| 1306122/1306122 [00:02<00:00, 455991.19it/s]\n"
     ]
    }
   ],
   "source": [
    "train[\"question_text\"] = train[\"question_text\"].progress_apply(lambda x: clean_numbers(x))\n",
    "sentences = train[\"question_text\"].progress_apply(lambda x: x.split())\n",
    "vocab = build_vocab(sentences)"
   ]
  },
  {
   "cell_type": "code",
   "execution_count": 17,
   "metadata": {},
   "outputs": [],
   "source": [
    "def _get_mispell(mispell_dict):\n",
    "    mispell_re = re.compile('(%s)' % '|'.join(mispell_dict.keys()))\n",
    "    return mispell_dict, mispell_re\n",
    "\n",
    "\n",
    "mispell_dict = {'colour':'color',\n",
    "                'centre':'center',\n",
    "                'didnt':'did not',\n",
    "                'doesnt':'does not',\n",
    "                'isnt':'is not',\n",
    "                'shouldnt':'should not',\n",
    "                'favourite':'favorite',\n",
    "                'travelling':'traveling',\n",
    "                'counselling':'counseling',\n",
    "                'theatre':'theater',\n",
    "                'cancelled':'canceled',\n",
    "                'labour':'labor',\n",
    "                'organisation':'organization',\n",
    "                'wwii':'world war 2',\n",
    "                'citicise':'criticize',\n",
    "                'instagram': 'social medium',\n",
    "                'whatsapp': 'social medium',\n",
    "                'snapchat': 'social medium'\n",
    "\n",
    "                }\n",
    "mispellings, mispellings_re = _get_mispell(mispell_dict)\n",
    "\n",
    "def replace_typical_misspell(text):\n",
    "    def replace(match):\n",
    "        return mispellings[match.group(0)]\n",
    "\n",
    "    return mispellings_re.sub(replace, text)"
   ]
  },
  {
   "cell_type": "code",
   "execution_count": 18,
   "metadata": {},
   "outputs": [
    {
     "name": "stderr",
     "output_type": "stream",
     "text": [
      "100%|██████████| 1306122/1306122 [00:04<00:00, 311545.83it/s]\n",
      "100%|██████████| 1306122/1306122 [00:03<00:00, 377658.24it/s]\n",
      "100%|██████████| 1306122/1306122 [00:03<00:00, 356958.94it/s]\n",
      "100%|██████████| 1306122/1306122 [00:03<00:00, 397285.33it/s]\n"
     ]
    }
   ],
   "source": [
    "train[\"question_text\"] = train[\"question_text\"].progress_apply(lambda x: replace_typical_misspell(x))\n",
    "sentences = train[\"question_text\"].progress_apply(lambda x: x.split())\n",
    "to_remove = ['a','to','of','and']\n",
    "sentences = [[word for word in sentence if not word in to_remove] for sentence in tqdm(sentences)]\n",
    "vocab = build_vocab(sentences)"
   ]
  },
  {
   "cell_type": "code",
   "execution_count": 19,
   "metadata": {},
   "outputs": [
    {
     "name": "stderr",
     "output_type": "stream",
     "text": [
      "100%|██████████| 242935/242935 [00:00<00:00, 364479.49it/s]\n"
     ]
    },
    {
     "name": "stdout",
     "output_type": "stream",
     "text": [
      "Found embeddings for 60.43% of vocab\n",
      "Found embeddings for  98.96% of all text\n"
     ]
    }
   ],
   "source": [
    "oov = check_coverage(vocab,embeddings_index)"
   ]
  },
  {
   "cell_type": "markdown",
   "metadata": {},
   "source": [
    "## Prepare for training"
   ]
  },
  {
   "cell_type": "code",
   "execution_count": 35,
   "metadata": {},
   "outputs": [],
   "source": [
    "import os\n",
    "import numpy as np # linear algebra\n",
    "import pandas as pd # data processing, CSV file I/O (e.g. pd.read_csv)\n",
    "from tqdm import tqdm\n",
    "import time\n",
    "import sys\n",
    "import re\n",
    "\n",
    "import matplotlib\n",
    "import matplotlib.pyplot as plt\n",
    "import seaborn as sns\n",
    "%matplotlib inline\n",
    "\n",
    "import torch\n",
    "import torch.nn as nn\n",
    "import torch.optim as optim\n",
    "import torch.autograd as autograd\n",
    "import torch.nn.functional as F\n",
    "import torch.utils.data\n",
    "from sklearn.metrics import f1_score\n",
    "\n",
    "from sklearn.model_selection import train_test_split\n",
    "device = torch.device(\"cuda\" if torch.cuda.is_available() else \"cpu\")\n",
    "#device = torch.device(\"cpu\")\n",
    "data_dir = '../input/'\n",
    "\n",
    "submission = pd.read_csv(data_dir+'sample_submission.csv',index_col=[0])\n",
    "\n",
    "# 最大系列長\n",
    "max_length = 40"
   ]
  },
  {
   "cell_type": "code",
   "execution_count": 36,
   "metadata": {},
   "outputs": [],
   "source": [
    "raw_train = pd.read_csv(data_dir+\"train.csv\")\n",
    "raw_test = pd.read_csv(data_dir+\"test.csv\")\n",
    "raw_train['sen_len'] = raw_train['question_text'].apply(lambda x: len(x.split()) if(len(x.split())<=max_length)\\\n",
    "                                                        else max_length)\n",
    "raw_test['sen_len'] = raw_test['question_text'].apply(lambda x: len(x.split()) if(len(x.split())<=max_length)\\\n",
    "                                                        else max_length)\n",
    "test_X = raw_test['question_text']\n",
    "del raw_test\n",
    "\n",
    "# train, validデータの分割\n",
    "def train_valid_extract(raw_train,n_train1,n_train0,n_valid0):\n",
    "    df_1 = raw_train[raw_train['target']==1]\n",
    "    df_0 = raw_train[raw_train['target']==0]\n",
    "\n",
    "    train_1 = df_1.sample(n=n_train1, random_state=0)\n",
    "    train_0 = df_0.sample(n=n_train0, random_state=0)\n",
    "    train_df = pd.concat([train_1,train_0])\n",
    "\n",
    "    valid_1 = df_1[~df_1.index.isin(train_1.index)]\n",
    "    valid_0 = df_0[~df_0.index.isin(train_0.index)].sample(n=n_valid0, random_state=0)\n",
    "    valid_df = pd.concat([valid_1,valid_0])\n",
    "\n",
    "    train1_X = train_1['question_text']\n",
    "    train0_X = train_0['question_text']\n",
    "    valid_X = valid_df['question_text']\n",
    "    valid_y = valid_df['target']\n",
    "    \n",
    "    return train1_X,train0_X,valid_X,valid_y"
   ]
  },
  {
   "cell_type": "code",
   "execution_count": 37,
   "metadata": {},
   "outputs": [],
   "source": [
    "# data sampling paramater\n",
    "n_train1 = 75000\n",
    "n_train0 = 1000000\n",
    "n_valid0 = 60000 # n_valid1が約5~10%になるように調整\n",
    "train1_X,train0_X,valid_X,valid_y = train_valid_extract(raw_train,n_train1,n_train0,n_valid0)\n",
    "del raw_train"
   ]
  },
  {
   "cell_type": "code",
   "execution_count": 45,
   "metadata": {},
   "outputs": [],
   "source": [
    "text = np.array(re.split(\"[ ,.:;!?-]\",\"He  is not a man\")[:40])"
   ]
  },
  {
   "cell_type": "code",
   "execution_count": 63,
   "metadata": {},
   "outputs": [],
   "source": [
    "oov_dict = dict((x,y) for x, y in oov)"
   ]
  },
  {
   "cell_type": "code",
   "execution_count": 65,
   "metadata": {},
   "outputs": [
    {
     "data": {
      "text/plain": [
       "987"
      ]
     },
     "execution_count": 65,
     "metadata": {},
     "output_type": "execute_result"
    }
   ],
   "source": [
    "oov_dict[\"bitcoin\"]"
   ]
  },
  {
   "cell_type": "code",
   "execution_count": 66,
   "metadata": {},
   "outputs": [],
   "source": [
    "def sentence_to_id(text,max_length):\n",
    "    #text = text[:-1].split()[:max_length]\n",
    "    text = np.array(re.split(\"[ ,.:;!?-]\",text)[:max_length])\n",
    "    text = text[~(text == '')]\n",
    "    embeds = [oov_dict.get(x) for x in text]\n",
    "    embeds+= [0] * (max_length - len(embeds))\n",
    "    #unknown wordはNoneで返されるため、1で置換\n",
    "    embeds = np.array(embeds)\n",
    "    embeds[embeds == None] = 1\n",
    "    return embeds.astype(np.int64)"
   ]
  },
  {
   "cell_type": "code",
   "execution_count": 67,
   "metadata": {},
   "outputs": [],
   "source": [
    "def make_dataloader(X,y=None,batch_size=2000,len_X=None,shuffle=True):\n",
    "    '''\n",
    "    X: torch.tensor \n",
    "    y: numpy.array\n",
    "    len_X: numpy.array\n",
    "    '''\n",
    "    if y is not None: # testデータではないとき\n",
    "        tensor_y = torch.from_numpy(np.array(y))\n",
    "    else : # testデータ、または全ラベルが同じデータセットの時\n",
    "        tensor_y = torch.from_numpy(np.zeros(len(X))) #testデータに疑似ラベルを作成\n",
    "        \n",
    "    if len_X is not None: #文長の情報も用いる場合\n",
    "        tensor_len_X = torch.from_numpy(np.array(len_X))\n",
    "        data = torch.utils.data.TensorDataset(X,tensor_y,tensor_len_X)\n",
    "    else : \n",
    "        data = torch.utils.data.TensorDataset(X,tensor_y) # create your datset \n",
    "    data_loader =  torch.utils.data.DataLoader(data,batch_size=batch_size, shuffle=shuffle) # create your dataloader \n",
    "    \n",
    "    return data_loader"
   ]
  },
  {
   "cell_type": "code",
   "execution_count": 68,
   "metadata": {},
   "outputs": [
    {
     "name": "stderr",
     "output_type": "stream",
     "text": [
      "100%|██████████| 75000/75000 [00:02<00:00, 25420.29it/s]\n",
      "100%|██████████| 1000000/1000000 [00:35<00:00, 28117.26it/s]\n",
      "100%|██████████| 65810/65810 [00:03<00:00, 21168.13it/s]\n",
      "100%|██████████| 56370/56370 [00:01<00:00, 31267.12it/s]\n"
     ]
    }
   ],
   "source": [
    "# word embedding\n",
    "train1_ids = torch.stack([torch.LongTensor(sentence_to_id(X_text,max_length)) for X_text in tqdm(train1_X)])\n",
    "train0_ids = torch.stack([torch.LongTensor(sentence_to_id(X_text,max_length)) for X_text in tqdm(train0_X)])\n",
    "valid_ids = torch.stack([torch.LongTensor(sentence_to_id(X_text,max_length)) for X_text in tqdm(valid_X)])\n",
    "test_ids = torch.stack([torch.LongTensor(sentence_to_id(X_text,max_length)) for X_text in tqdm(test_X)])\n",
    "\n",
    "del train1_X,train0_X,valid_X,test_X,word2id"
   ]
  },
  {
   "cell_type": "code",
   "execution_count": 69,
   "metadata": {},
   "outputs": [],
   "source": [
    "batch_size = 3750\n",
    "#batch1_ratio = 0.3\n",
    "batch1_size = 1250 #int(batch_size*batch1_ratio)\n",
    "batch0_size = 2500 #int(batch_size*(1-batch1_ratio))\n",
    "\n",
    "repeat_num =  n_train1//batch1_size # クラス1の重複回数\n",
    "\n",
    "train1_loader = make_dataloader(train1_ids.repeat(repeat_num,1),\n",
    "                                np.ones(len(train1_ids.repeat(repeat_num,1))),\n",
    "                                batch_size=batch1_size,len_X=None,shuffle=True)\n",
    "train0_loader = make_dataloader(train0_ids,np.zeros(len(train0_ids)),batch_size=batch0_size,len_X=None,shuffle=True)\n",
    "valid_loader = make_dataloader(valid_ids,valid_y,len_X=None,shuffle=True)\n",
    "test_loader = make_dataloader(test_ids,len_X=None,shuffle=False)\n",
    "del train1_ids,train0_ids,valid_ids,test_ids"
   ]
  },
  {
   "cell_type": "markdown",
   "metadata": {},
   "source": [
    "## Modeling"
   ]
  },
  {
   "cell_type": "code",
   "execution_count": 70,
   "metadata": {},
   "outputs": [],
   "source": [
    "class LSTM(nn.Module):\n",
    "    def __init__(self,vocab_size, embed_size, hidden_size,output_size,bidirectional,\n",
    "                 num_layers=2,dropout=0):\n",
    "        \"\"\"\n",
    "        :param input_size: int, 入力言語の語彙数\n",
    "        :param hidden_size: int, 隠れ層のユニット数\n",
    "        \"\"\"\n",
    "        super(LSTM, self).__init__()\n",
    "        self.hidden_size = hidden_size\n",
    "        self.output_size = output_size\n",
    "        self.num_layers = num_layers\n",
    "        self.dropout = dropout\n",
    "        \n",
    "        self.embedding = nn.Embedding.from_pretrained(id2vec)\n",
    "        self.embedding.weight.requires_grad = False\n",
    "        '''\n",
    "        self.gru = nn.GRU(input_size=embed_size, hidden_size=self.hidden_size,\n",
    "                          num_layers=self.num_layers,dropout=self.dropout,\n",
    "                          batch_first=True)\n",
    "        '''\n",
    "        self.gru = nn.GRU(input_size=embed_size, hidden_size=self.hidden_size,\n",
    "                          num_layers=1,dropout=0,\n",
    "                          bidirectional=bidirectional,batch_first=True)\n",
    "        self.dropout = nn.Dropout()\n",
    "        self.fc = nn.Linear(self.hidden_size, self.hidden_size//2)\n",
    "        self.fc2 = nn.Linear(self.hidden_size//2, self.output_size)\n",
    "        \n",
    "    def forward(self, seqs, hidden=None):\n",
    "        \"\"\"\n",
    "        :param seqs: tensor, 入力のバッチ, size=(max_length, batch_size)\n",
    "        :param input_lengths: 入力のバッチの各サンプルの文長\n",
    "        :param hidden: tensor, 隠れ状態の初期値, Noneの場合は0で初期化される\n",
    "        :return output: tensor, Encoderの出力, size=(max_length, batch_size, hidden_size)\n",
    "        :return hidden: tensor, Encoderの隠れ状態, size=(1, batch_size, hidden_size)\n",
    "        \"\"\"\n",
    "        emb = self.embedding(seqs)\n",
    "        output, hidden = self.gru(emb, hidden)\n",
    "        x = F.relu(self.fc(output[:,-1,:])) # 系列の最後の出力のみ取り出す。クラス数分の次元のはず\n",
    "        x = self.dropout(x)\n",
    "        return self.fc2(x)"
   ]
  },
  {
   "cell_type": "code",
   "execution_count": 71,
   "metadata": {},
   "outputs": [],
   "source": [
    "def multi_weighted_log_loss(input, target, class_weight=None):\n",
    "    '''\n",
    "    class_weight: np.array([a1,a2,...])\n",
    "    '''\n",
    "    if target.device.type == 'cuda':\n",
    "        input = input.to(torch.device(\"cpu\"))\n",
    "        target = target.to(torch.device(\"cpu\"))\n",
    "    #真分類値tのonehot化\n",
    "    batch_size = len(target)\n",
    "\n",
    "    t_onehot = torch.FloatTensor(batch_size, num_classes)\n",
    "    t_onehot.zero_()\n",
    "    t_onehot = t_onehot.scatter_(1,target.reshape(batch_size,1),1)\n",
    "    if class_weight is None:\n",
    "        w = torch.ones(num_classes).type(torch.FloatTensor)\n",
    "    else: w = torch.from_numpy(class_weight).type(torch.FloatTensor)\n",
    "\n",
    "    t_y = (torch.log(input)*t_onehot) # y_ij * ln(p_ij) \n",
    "    sum_t = -1 * (torch.sum(t_y,dim=0)/torch.bincount(target).type(torch.FloatTensor)) # -1/N_i sum( t_y )\n",
    "    return torch.dot(sum_t,w)/w.sum()\n",
    "\n",
    "def compute_loss(batch_X, batch_Y, model, criterion,\n",
    "                 class_weight=None,\n",
    "                 optimizer=None, is_train=True):\n",
    "    # バッチの損失を計算\n",
    "    model.train(is_train)\n",
    "    \n",
    "    if is_train:\n",
    "        optimizer.zero_grad()\n",
    "    \n",
    "    y = model(batch_X)\n",
    "    y = F.softmax(y, dim=-1)\n",
    "    if class_weight is not None: #クラス重みづけができる損失関数の場合\n",
    "        loss = criterion(y, batch_Y,class_weight=class_weight)\n",
    "    else: #それ以外の損失関数\n",
    "        loss = criterion(y, batch_Y)\n",
    "    \n",
    "    if is_train:\n",
    "        loss.backward()\n",
    "        optimizer.step()\n",
    "    pred = y.argmax(dim=1).tolist()\n",
    "    return loss.item(), batch_Y.data, pred"
   ]
  },
  {
   "cell_type": "code",
   "execution_count": 72,
   "metadata": {},
   "outputs": [
    {
     "ename": "NameError",
     "evalue": "name 'id2vec' is not defined",
     "output_type": "error",
     "traceback": [
      "\u001b[0;31m---------------------------------------------------------------------------\u001b[0m",
      "\u001b[0;31mNameError\u001b[0m                                 Traceback (most recent call last)",
      "\u001b[0;32m<ipython-input-72-e5ca4a8c105e>\u001b[0m in \u001b[0;36m<module>\u001b[0;34m()\u001b[0m\n\u001b[1;32m      1\u001b[0m model_args = {\n\u001b[0;32m----> 2\u001b[0;31m     \u001b[0;34m'vocab_size'\u001b[0m\u001b[0;34m:\u001b[0m\u001b[0mlen\u001b[0m\u001b[0;34m(\u001b[0m\u001b[0mid2vec\u001b[0m\u001b[0;34m)\u001b[0m\u001b[0;34m,\u001b[0m\u001b[0;34m\u001b[0m\u001b[0m\n\u001b[0m\u001b[1;32m      3\u001b[0m     \u001b[0;34m'embed_size'\u001b[0m\u001b[0;34m:\u001b[0m\u001b[0;36m300\u001b[0m\u001b[0;34m,\u001b[0m\u001b[0;34m\u001b[0m\u001b[0m\n\u001b[1;32m      4\u001b[0m     \u001b[0;34m'hidden_size'\u001b[0m\u001b[0;34m:\u001b[0m\u001b[0;36m300\u001b[0m\u001b[0;34m,\u001b[0m\u001b[0;34m\u001b[0m\u001b[0m\n\u001b[1;32m      5\u001b[0m     \u001b[0;34m'output_size'\u001b[0m\u001b[0;34m:\u001b[0m\u001b[0;36m2\u001b[0m\u001b[0;34m,\u001b[0m\u001b[0;34m\u001b[0m\u001b[0m\n",
      "\u001b[0;31mNameError\u001b[0m: name 'id2vec' is not defined"
     ]
    }
   ],
   "source": [
    "model_args = {\n",
    "    'vocab_size':len(id2vec),\n",
    "    'embed_size':300,\n",
    "    'hidden_size':300,\n",
    "    'output_size':2,\n",
    "    'num_layers':2,\n",
    "    'dropout':0.25,\n",
    "    'bidirectional':False\n",
    "}\n",
    "num_classes=2\n",
    "class_weight = np.array([10,1])\n",
    "lr = 0.005\n",
    "num_epochs = 2\n",
    "ckpt_path = 'lstm_online_embedding.pth'\n",
    "\n",
    "# model\n",
    "model = LSTM(**model_args).to(device)\n",
    "\n",
    "optimizer = optim.Adam(model.parameters(), lr=lr)\n",
    "criterion = multi_weighted_log_loss\n",
    "\n",
    "score = f1_score\n",
    "loss_epoch_train_ls = []\n",
    "loss_epoch_valid_ls = []\n",
    "score_epoch_train_ls = []\n",
    "score_epoch_valid_ls = []\n",
    "best_valid_score = 0"
   ]
  },
  {
   "cell_type": "code",
   "execution_count": 73,
   "metadata": {},
   "outputs": [
    {
     "ename": "NameError",
     "evalue": "name 'num_epochs' is not defined",
     "output_type": "error",
     "traceback": [
      "\u001b[0;31m---------------------------------------------------------------------------\u001b[0m",
      "\u001b[0;31mNameError\u001b[0m                                 Traceback (most recent call last)",
      "\u001b[0;32m<ipython-input-73-37f708689ded>\u001b[0m in \u001b[0;36m<module>\u001b[0;34m()\u001b[0m\n\u001b[1;32m      1\u001b[0m \u001b[0mstart\u001b[0m \u001b[0;34m=\u001b[0m \u001b[0mtime\u001b[0m\u001b[0;34m.\u001b[0m\u001b[0mtime\u001b[0m\u001b[0;34m(\u001b[0m\u001b[0;34m)\u001b[0m\u001b[0;34m\u001b[0m\u001b[0m\n\u001b[0;32m----> 2\u001b[0;31m \u001b[0;32mfor\u001b[0m \u001b[0mepoch\u001b[0m \u001b[0;32min\u001b[0m \u001b[0mrange\u001b[0m\u001b[0;34m(\u001b[0m\u001b[0;36m1\u001b[0m\u001b[0;34m,\u001b[0m \u001b[0mnum_epochs\u001b[0m\u001b[0;34m+\u001b[0m\u001b[0;36m1\u001b[0m\u001b[0;34m)\u001b[0m\u001b[0;34m:\u001b[0m\u001b[0;34m\u001b[0m\u001b[0m\n\u001b[0m\u001b[1;32m      3\u001b[0m     \u001b[0mtrain_losses\u001b[0m \u001b[0;34m=\u001b[0m \u001b[0;34m[\u001b[0m\u001b[0;34m]\u001b[0m\u001b[0;34m\u001b[0m\u001b[0m\n\u001b[1;32m      4\u001b[0m     \u001b[0mvalid_losses\u001b[0m \u001b[0;34m=\u001b[0m \u001b[0;34m[\u001b[0m\u001b[0;34m]\u001b[0m\u001b[0;34m\u001b[0m\u001b[0m\n\u001b[1;32m      5\u001b[0m     \u001b[0mpreds_train\u001b[0m \u001b[0;34m=\u001b[0m \u001b[0;34m[\u001b[0m\u001b[0;34m]\u001b[0m\u001b[0;34m\u001b[0m\u001b[0m\n",
      "\u001b[0;31mNameError\u001b[0m: name 'num_epochs' is not defined"
     ]
    }
   ],
   "source": [
    "start = time.time()\n",
    "for epoch in range(1, num_epochs+1):\n",
    "    train_losses = []\n",
    "    valid_losses = []\n",
    "    preds_train = []\n",
    "    preds_valid = []\n",
    "    trues_train = []\n",
    "    trues_valid = []\n",
    "    # train\n",
    "    for i, ((batch1_X,batch1_y), (batch0_X,batch0_y)) in enumerate(zip(train1_loader,train0_loader)):\n",
    "        batch_X = torch.cat([batch1_X, batch0_X], dim=0).numpy()\n",
    "        batch_Y = torch.cat([batch1_y, batch0_y], dim=0).numpy()\n",
    "        # クラス0とクラス1のデータをランダムに混ぜる\n",
    "        np.random.seed(i)\n",
    "        batch_X = torch.LongTensor(np.random.permutation(batch_X)).to(device)\n",
    "        np.random.seed(i)\n",
    "        batch_Y = torch.LongTensor(np.random.permutation(batch_Y)).to(device)\n",
    "        # 学習\n",
    "        train_loss, true,pred = compute_loss(\n",
    "            batch_X, batch_Y, model ,criterion, class_weight ,optimizer, is_train=True\n",
    "            )\n",
    "        train_losses.append(train_loss)\n",
    "        trues_train.extend(true)\n",
    "        preds_train.extend(pred)\n",
    "        #if i % 50 == 0: print(i)\n",
    "    # valid\n",
    "    for batch in valid_loader:\n",
    "        batch_X, batch_Y = batch\n",
    "        batch_X = batch_X.to(device)\n",
    "        batch_Y = batch_Y.to(device)\n",
    "        valid_loss, true,pred = compute_loss(\n",
    "            batch_X, batch_Y, model, criterion, class_weight ,is_train=False\n",
    "            )\n",
    "        valid_losses.append(valid_loss)\n",
    "        trues_valid.extend(true)\n",
    "        preds_valid.extend(pred)\n",
    "    \n",
    "    loss_epoch_train = np.mean(train_losses)\n",
    "    loss_epoch_valid = np.mean(valid_losses)\n",
    "    loss_epoch_train_ls.append(loss_epoch_train)\n",
    "    loss_epoch_valid_ls.append(loss_epoch_valid)\n",
    "    \n",
    "    train_score = score(np.array(trues_train), np.array(preds_train))\n",
    "    valid_score = score(np.array(trues_valid), np.array(preds_valid))\n",
    "    score_epoch_train_ls.append(train_score)\n",
    "    score_epoch_valid_ls.append(valid_score)\n",
    "    \n",
    "    if valid_score > best_valid_score:\n",
    "        ckpt = model.state_dict()\n",
    "        torch.save(ckpt, ckpt_path)\n",
    "        best_valid_score = valid_score\n",
    "\n",
    "    print('Time:{:.1f}, Epoch:{}, train_loss: {:.3f}  train_score: {:.3f}  valid_loss: {:.3f}  valid_score: {:.3f}'.format(\n",
    "            time.time()-start,epoch, \n",
    "            loss_epoch_train, \n",
    "            train_score,\n",
    "            loss_epoch_valid,\n",
    "            valid_score\n",
    "    ))"
   ]
  },
  {
   "cell_type": "markdown",
   "metadata": {},
   "source": [
    "## Prediction"
   ]
  },
  {
   "cell_type": "code",
   "execution_count": null,
   "metadata": {},
   "outputs": [],
   "source": [
    "# testデータセットに適用\n",
    "#del train_loader,valid_loader\n",
    "preds_test = []\n",
    "for batch_X,batch_Y in test_loader:\n",
    "    batch_X = batch_X.to(device)\n",
    "    batch_Y = batch_Y.type(torch.LongTensor).to(device)\n",
    "    test_loss, true,pred = compute_loss(\n",
    "        batch_X, batch_Y, model, criterion, is_train=False) \n",
    "    \n",
    "    # モデルの出力を予測値のスカラーに変換\n",
    "    preds_test.extend(pred)"
   ]
  },
  {
   "cell_type": "code",
   "execution_count": null,
   "metadata": {},
   "outputs": [],
   "source": [
    "submission['prediction'] = preds_test\n",
    "submission.to_csv('submission.csv')\n",
    "submission.sum()"
   ]
  },
  {
   "cell_type": "code",
   "execution_count": null,
   "metadata": {},
   "outputs": [],
   "source": [
    "df_loss_score = pd.DataFrame({'train_loss': loss_epoch_train_ls,\n",
    "                           'valid_loss':loss_epoch_valid_ls,\n",
    "                           'train_score': score_epoch_train_ls,\n",
    "                           'valid_score':score_epoch_valid_ls\n",
    "                          })\n",
    "df_loss_score"
   ]
  }
 ],
 "metadata": {
  "kernelspec": {
   "display_name": "Python 3",
   "language": "python",
   "name": "python3"
  },
  "language_info": {
   "codemirror_mode": {
    "name": "ipython",
    "version": 3
   },
   "file_extension": ".py",
   "mimetype": "text/x-python",
   "name": "python",
   "nbconvert_exporter": "python",
   "pygments_lexer": "ipython3",
   "version": "3.7.0"
  }
 },
 "nbformat": 4,
 "nbformat_minor": 2
}
